{
  "cells": [
    {
      "cell_type": "code",
      "execution_count": 2,
      "id": "__CgknB3O-IY",
      "metadata": {
        "id": "__CgknB3O-IY"
      },
      "outputs": [
        {
          "ename": "ModuleNotFoundError",
          "evalue": "No module named 'google'",
          "output_type": "error",
          "traceback": [
            "\u001b[1;31m---------------------------------------------------------------------------\u001b[0m",
            "\u001b[1;31mModuleNotFoundError\u001b[0m                       Traceback (most recent call last)",
            "Cell \u001b[1;32mIn[2], line 1\u001b[0m\n\u001b[1;32m----> 1\u001b[0m \u001b[38;5;28;01mfrom\u001b[39;00m \u001b[38;5;21;01mgoogle\u001b[39;00m\u001b[38;5;21;01m.\u001b[39;00m\u001b[38;5;21;01mcolab\u001b[39;00m \u001b[38;5;28;01mimport\u001b[39;00m drive\n\u001b[0;32m      2\u001b[0m drive\u001b[38;5;241m.\u001b[39mmount(\u001b[38;5;124m'\u001b[39m\u001b[38;5;124m/content/drive\u001b[39m\u001b[38;5;124m'\u001b[39m)\n",
            "\u001b[1;31mModuleNotFoundError\u001b[0m: No module named 'google'"
          ]
        }
      ],
      "source": [
        "from google.colab import drive\n",
        "drive.mount('/content/drive')"
      ]
    },
    {
      "cell_type": "code",
      "execution_count": null,
      "id": "vEtQT_6xPq7a",
      "metadata": {
        "id": "vEtQT_6xPq7a"
      },
      "outputs": [],
      "source": [
        "import pandas as pd\n",
        "data = pd.read_csv(r'/content/drive/MyDrive/Raw_data.csv')\n",
        "data.head()"
      ]
    },
    {
      "cell_type": "code",
      "execution_count": null,
      "id": "d19fddb2",
      "metadata": {
        "id": "d19fddb2"
      },
      "outputs": [],
      "source": [
        "data.drop(columns = ['@odata.etag', 'Canceled', 'Attempt_Failed', 'Document_Type', 'Document_No', 'Time_of_Interaction', 'Interaction_Template_Code', 'Attachment', 'Contact_Company_No', 'Campaign_Response', 'Campaign_Entry_No', 'Campaign_Target'], inplace = True)"
      ]
    },
    {
      "cell_type": "code",
      "execution_count": null,
      "id": "526737eb",
      "metadata": {
        "id": "526737eb"
      },
      "outputs": [],
      "source": [
        "data.isnull().sum().sum()"
      ]
    },
    {
      "cell_type": "code",
      "execution_count": null,
      "id": "20201ad7",
      "metadata": {
        "id": "20201ad7"
      },
      "outputs": [],
      "source": [
        "data.dropna(axis = 1, how = 'all', inplace = True)"
      ]
    },
    {
      "cell_type": "code",
      "execution_count": null,
      "id": "cf6836d2",
      "metadata": {
        "id": "cf6836d2"
      },
      "outputs": [],
      "source": [
        "data.head(3)"
      ]
    },
    {
      "cell_type": "code",
      "execution_count": null,
      "id": "384cca3c",
      "metadata": {
        "id": "384cca3c"
      },
      "outputs": [],
      "source": [
        "print(data.columns.to_list())"
      ]
    },
    {
      "cell_type": "code",
      "execution_count": null,
      "id": "a240203b",
      "metadata": {
        "id": "a240203b"
      },
      "outputs": [],
      "source": [
        "data.drop(columns = ['Delivery_Status', 'Correspondence_Type', 'Information_Flow', 'Initiated_By', 'Evaluation', 'Cost_LCY', 'Campaign_No', 'Comment', 'Line_No', 'Type', 'FilteredTypeField', 'No', 'IC_Partner_Ref_Type', 'Nonstock', 'VAT_Percent', 'Location_Code', 'Bin_Code', 'Quantity', 'Unit_of_Measure_Code', 'Unit_of_Measure', 'Unit_Cost_LCY', 'PriceExists', 'Unit_Price', 'Tax_Liable', 'Line_Discount_Percent', 'VAT_Prod_Posting_Group', 'Line_Amount', 'LineDiscExists', 'Line_Discount_Amount', 'Allow_Invoice_Disc', 'Inv_Discount_Amount', 'Allow_Item_Charge_Assignment', 'Qty_to_Assign', 'Qty_Assigned', 'Job_No', 'Job_Task_No', 'Job_Contract_Entry_No', 'Blanket_Order_Line_No', 'FA_Posting_Date', 'Depr_until_FA_Posting_Date', 'Depreciation_Book_Code', 'Use_Duplication_List', 'Appl_from_Item_Entry', 'Appl_to_Item_Entry', 'TIMS_Item_Code', 'Shortcut_Dimension_1_Code', 'Shortcut_Dimension_2_Code', 'ShortcutDimCode3', 'ShortcutDimCode4', 'ShortcutDimCode5', 'ShortcutDimCode6', 'TotalSalesLine_Line_Amount', 'Invoice_Discount_Amount', 'Invoice_Disc_Pct', 'Invoice_Discount_Percent', 'Total_Amount_Excl_VAT', 'Total_VAT_Amount', 'Total_Amount_Incl_VAT', 'Sell_to_Customer_No', 'Sell_to_Customer_Name', 'Posting_Description', 'Retail_Type', 'Sell_to_Address', 'Sell_to_Address_2', 'Sell_to_City', 'Sell_to_County', 'Sell_to_Post_Code', 'Sell_to_Country_Region_Code', 'Sell_to_Contact_No', 'Sell_to_Contact', 'Your_Reference', 'Document_Date', 'Posting_Date', 'Due_Date', 'Incoming_Document_Entry_No', 'External_Document_No', 'ShortCutDim1Name', 'ShortCutDim2Name', 'Responsibility_Center', 'Assigned_User_ID', 'Status', 'Credit_Status_TMN', 'Exit_Point', 'Job_Queue_Status', 'Sell_to_Phone_No', 'Amount_To_Pay', 'Amount_Paid', 'Reviewer_Status', 'Reviewer_ID', 'Reviewed_Date', 'Enable_LPO_Authorization', 'Enable_Customer_Ticket', 'Currency_Code', 'Shipment_Date', 'Quote_No', 'Prices_Including_VAT', 'VAT_Bus_Posting_Group', 'Payment_Terms_Code', 'Payment_Method_Code', 'EU_3_Party_Trade', 'SelectedPayments', 'Payment_Discount_Percent', 'Pmt_Discount_Date', 'ShippingOptions', 'Ship_to_Name', 'Ship_to_Address', 'Ship_to_Address_2', 'Ship_to_City', 'Ship_to_County', 'Ship_to_Post_Code', 'Ship_to_Country_Region_Code', 'Ship_to_Contact', 'BillToOptions', 'Bill_to_Name', 'Bill_to_Address', 'Bill_to_Address_2', 'Bill_to_City', 'Bill_to_County', 'Bill_to_Post_Code', 'Bill_to_Country_Region_Code', 'Bill_to_Contact_No', 'Bill_to_Contact', 'Applies_to_Doc_Type', 'Applies_to_Doc_No'],inplace = True)"
      ]
    },
    {
      "cell_type": "code",
      "execution_count": null,
      "id": "d1e18f51",
      "metadata": {
        "id": "d1e18f51"
      },
      "outputs": [],
      "source": [
        "data.columns\n"
      ]
    },
    {
      "cell_type": "code",
      "execution_count": null,
      "id": "1388cee0",
      "metadata": {
        "id": "1388cee0"
      },
      "outputs": [],
      "source": [
        "data.drop(columns=['Duration_Min'], inplace= True)"
      ]
    },
    {
      "cell_type": "code",
      "execution_count": null,
      "id": "b8f8953a",
      "metadata": {
        "id": "b8f8953a"
      },
      "outputs": [],
      "source": [
        "data.head()"
      ]
    },
    {
      "cell_type": "code",
      "execution_count": null,
      "id": "b1b5b099",
      "metadata": {
        "id": "b1b5b099"
      },
      "outputs": [],
      "source": [
        "data.isnull().sum()"
      ]
    },
    {
      "cell_type": "markdown",
      "id": "80642ccc",
      "metadata": {
        "id": "80642ccc"
      },
      "source": []
    },
    {
      "cell_type": "code",
      "execution_count": null,
      "id": "ODSiti_5Tr2i",
      "metadata": {
        "id": "ODSiti_5Tr2i"
      },
      "outputs": [],
      "source": [
        "data.head(3)"
      ]
    },
    {
      "cell_type": "code",
      "execution_count": null,
      "id": "hPrbXPnsTmD4",
      "metadata": {
        "id": "hPrbXPnsTmD4"
      },
      "outputs": [],
      "source": [
        "data['WorkDescription'] = data.WorkDescription.fillna('No Description')\n",
        "data['Description'] = data.Description.fillna('No Description')\n",
        "data['Salesperson_Code'] = data.Salesperson_Code.fillna('No Salesperson')"
      ]
    },
    {
      "cell_type": "code",
      "execution_count": null,
      "id": "TMs1KumcTtq4",
      "metadata": {
        "id": "TMs1KumcTtq4"
      },
      "outputs": [],
      "source": [
        "data.isnull().sum()"
      ]
    },
    {
      "cell_type": "code",
      "execution_count": null,
      "id": "l-APEBlFXV-1",
      "metadata": {
        "id": "l-APEBlFXV-1"
      },
      "outputs": [],
      "source": [
        "data_cleaned = data.dropna(subset=['Entry_No'])\n",
        "data_cleaned = data_cleaned.dropna(subset=['Contact_Company_Name'])\n"
      ]
    },
    {
      "cell_type": "code",
      "execution_count": null,
      "id": "dA7QJwd2T2Di",
      "metadata": {
        "id": "dA7QJwd2T2Di"
      },
      "outputs": [],
      "source": [
        "data_cleaned.isnull().sum()"
      ]
    },
    {
      "cell_type": "markdown",
      "id": "9qYUZgjygAt-",
      "metadata": {
        "id": "9qYUZgjygAt-"
      },
      "source": [
        "# LEAD SCORING LOGIC"
      ]
    },
    {
      "cell_type": "markdown",
      "id": "UZ-z1WcGgMqC",
      "metadata": {
        "id": "UZ-z1WcGgMqC"
      },
      "source": [
        "\n",
        "\n",
        "*    If all three fields are filled, the lead is considered High priority, indicating strong qualification and readiness for follow-up\n",
        "*   If two fields are filled, the lead is marked as Medium, suggesting partial qualification.\n",
        "*  Leads with only one filled field are labeled Low, showing minimal engagement, while those with none are assigned Very Low, indicating insufficient data to act upon\n"
      ]
    },
    {
      "cell_type": "code",
      "execution_count": null,
      "id": "ydBFZ0EEVxKV",
      "metadata": {
        "id": "ydBFZ0EEVxKV"
      },
      "outputs": [],
      "source": [
        "def lead_scoring(row):\n",
        "\n",
        "  filled_fields = 0\n",
        "\n",
        "  if row['Salesperson_Code'] != 'No Salesperson':\n",
        "    filled_fields += 1\n",
        "  if row['WorkDescription'] != 'No Description':\n",
        "    filled_fields += 1\n",
        "  if row['Description'] != 'No Description':\n",
        "    filled_fields += 1\n",
        "\n",
        "  if filled_fields >= 3:\n",
        "    return 'High'\n",
        "  elif filled_fields >= 2:\n",
        "    return 'Medium'\n",
        "  elif filled_fields >= 1:\n",
        "    return 'Low'\n",
        "  else:\n",
        "    return 'Very Low'\n",
        "\n",
        "data_cleaned['Lead_Score'] = data.apply(lead_scoring, axis = 1)"
      ]
    },
    {
      "cell_type": "code",
      "execution_count": null,
      "id": "THb3BiEjaw1m",
      "metadata": {
        "id": "THb3BiEjaw1m"
      },
      "outputs": [],
      "source": [
        "print(data_cleaned['Lead_Score'].value_counts())"
      ]
    },
    {
      "cell_type": "code",
      "execution_count": null,
      "id": "aApQ1WXsa2yO",
      "metadata": {
        "id": "aApQ1WXsa2yO"
      },
      "outputs": [],
      "source": [
        "categorical_columns = data_cleaned.select_dtypes(include=['object']).columns\n",
        "numerical_columns = data_cleaned.select_dtypes(include=['int64', 'float64']).columns"
      ]
    },
    {
      "cell_type": "code",
      "execution_count": null,
      "id": "rgDWKtRibL-J",
      "metadata": {
        "id": "rgDWKtRibL-J"
      },
      "outputs": [],
      "source": [
        "from sklearn.preprocessing import LabelEncoder, MinMaxScaler\n",
        "label_encoder = LabelEncoder()\n",
        "min_max_scaler = MinMaxScaler()\n",
        "\n",
        "for col in categorical_columns:\n",
        "  data_cleaned[col] = label_encoder.fit_transform(data_cleaned[col])\n",
        "\n",
        "for col in numerical_columns:\n",
        "  data_cleaned[col] = min_max_scaler.fit_transform(data_cleaned[[col]])"
      ]
    },
    {
      "cell_type": "code",
      "execution_count": null,
      "id": "WLRRLTwFcC_1",
      "metadata": {
        "id": "WLRRLTwFcC_1"
      },
      "outputs": [],
      "source": [
        "data_cleaned.head()"
      ]
    },
    {
      "cell_type": "code",
      "execution_count": null,
      "id": "1jQqox6scIt7",
      "metadata": {
        "id": "1jQqox6scIt7"
      },
      "outputs": [],
      "source": [
        "X = data_cleaned.drop(columns = ['Lead_Score'])\n",
        "y = data_cleaned['Lead_Score']"
      ]
    },
    {
      "cell_type": "code",
      "execution_count": null,
      "id": "hjY1ZOFacW5o",
      "metadata": {
        "id": "hjY1ZOFacW5o"
      },
      "outputs": [],
      "source": [
        "from sklearn.model_selection import train_test_split\n",
        "X_train, X_test, y_train, y_test = train_test_split(X, y, test_size = 0.2, random_state = 42)"
      ]
    },
    {
      "cell_type": "code",
      "execution_count": null,
      "id": "dZfoyHnkcZeb",
      "metadata": {
        "id": "dZfoyHnkcZeb"
      },
      "outputs": [],
      "source": [
        "from sklearn.ensemble import RandomForestClassifier\n",
        "from sklearn.metrics import classification_report, accuracy_score\n",
        "\n",
        "\n",
        "RFC = RandomForestClassifier(random_state=42)\n",
        "\n",
        "RFC.fit(X_train, y_train)\n",
        "\n",
        "y_pred_rfc = RFC.predict(X_test)\n",
        "\n",
        "print(\"Random Forest Accuracy:\", accuracy_score(y_test, y_pred_rfc))\n",
        "print(\"Random Forest Classification Report:\\n\", classification_report(y_test, y_pred_rfc))\n"
      ]
    },
    {
      "cell_type": "markdown",
      "id": "Bb0sjGH2faLV",
      "metadata": {
        "id": "Bb0sjGH2faLV"
      },
      "source": [
        "Accuracy: The model is correctly classifying almost all leads, with 99.95% of predictions being accurate.\n",
        "\n",
        "Precision: Both classes (0 and 1) have perfect precision, meaning that when the model predicts a class, it's almost always correct.\n",
        "\n",
        "Recall: Both classes also have perfect recall, meaning the model correctly identifies nearly all instances of both classes.\n",
        "\n",
        "F1-Score: The F1-score is 1 for both classes, indicating a perfect balance between precision and recall."
      ]
    },
    {
      "cell_type": "code",
      "execution_count": null,
      "id": "fnup6rK2c9tG",
      "metadata": {
        "id": "fnup6rK2c9tG"
      },
      "outputs": [],
      "source": [
        "import xgboost as xgb\n",
        "from sklearn.metrics import classification_report, accuracy_score\n",
        "\n",
        "xgb_model = xgb.XGBClassifier(random_state=42)\n",
        "\n",
        "xgb_model.fit(X_train, y_train)\n",
        "\n",
        "y_pred_xgb = xgb_model.predict(X_test)\n",
        "\n",
        "print(\"XGBoost Accuracy:\", accuracy_score(y_test, y_pred_xgb))\n",
        "print(\"XGBoost Classification Report:\\n\", classification_report(y_test, y_pred_xgb))\n"
      ]
    },
    {
      "cell_type": "code",
      "execution_count": null,
      "id": "b48F6lPhdScD",
      "metadata": {
        "id": "b48F6lPhdScD"
      },
      "outputs": [],
      "source": [
        "from sklearn.model_selection import cross_val_score\n",
        "\n",
        "cross_val_scores = cross_val_score(RFC, X, y, cv=5)\n",
        "print(\"Cross-validation scores:\", cross_val_scores)\n",
        "print(\"Average cross-validation score:\", cross_val_scores.mean())\n"
      ]
    },
    {
      "cell_type": "markdown",
      "id": "_-A2kPyiflDg",
      "metadata": {
        "id": "_-A2kPyiflDg"
      },
      "source": [
        "Ths is an indication that the Random Forest Classifier is generalizing well across the data, no sign of overfitting"
      ]
    },
    {
      "cell_type": "code",
      "execution_count": null,
      "id": "ryNwWGo-g2-s",
      "metadata": {
        "id": "ryNwWGo-g2-s"
      },
      "outputs": [],
      "source": [
        "import joblib\n",
        "joblib.dump(RFC, 'lead_scoring_model.pkl')"
      ]
    },
    {
      "cell_type": "code",
      "execution_count": null,
      "id": "wzLl9X51dkZ-",
      "metadata": {
        "colab": {
          "base_uri": "https://localhost:8080/"
        },
        "id": "wzLl9X51dkZ-",
        "outputId": "973dbb68-9025-47c1-a970-6e381ad8b538"
      },
      "outputs": [
        {
          "ename": "ModuleNotFoundError",
          "evalue": "No module named 'sklearn'",
          "output_type": "error",
          "traceback": [
            "\u001b[1;31m---------------------------------------------------------------------------\u001b[0m",
            "\u001b[1;31mModuleNotFoundError\u001b[0m                       Traceback (most recent call last)",
            "Cell \u001b[1;32mIn[1], line 1\u001b[0m\n\u001b[1;32m----> 1\u001b[0m \u001b[38;5;28;01mfrom\u001b[39;00m \u001b[38;5;21;01msklearn\u001b[39;00m\u001b[38;5;21;01m.\u001b[39;00m\u001b[38;5;21;01mmodel_selection\u001b[39;00m \u001b[38;5;28;01mimport\u001b[39;00m GridSearchCV\n\u001b[0;32m      2\u001b[0m \u001b[38;5;28;01mfrom\u001b[39;00m \u001b[38;5;21;01msklearn\u001b[39;00m\u001b[38;5;21;01m.\u001b[39;00m\u001b[38;5;21;01mensemble\u001b[39;00m \u001b[38;5;28;01mimport\u001b[39;00m RandomForestClassifier\n\u001b[0;32m      4\u001b[0m \u001b[38;5;66;03m# Define the model\u001b[39;00m\n",
            "\u001b[1;31mModuleNotFoundError\u001b[0m: No module named 'sklearn'"
          ]
        }
      ],
      "source": [
        "from sklearn.model_selection import GridSearchCV\n",
        "from sklearn.ensemble import RandomForestClassifier\n",
        "\n",
        "# Define the model\n",
        "rf = RandomForestClassifier(random_state=42)\n",
        "\n",
        "# Define the parameter grid\n",
        "param_grid = {\n",
        "    'n_estimators': [100, 200, 300, 400, 500],\n",
        "    'max_depth': [None, 10, 20, 30, 40],\n",
        "    'min_samples_split': [2, 5, 10],\n",
        "    'min_samples_leaf': [1, 2, 4],\n",
        "    'max_features': ['auto', 'sqrt', 'log2'],\n",
        "    'bootstrap': [True, False]\n",
        "}\n",
        "\n",
        "# Set up GridSearchCV\n",
        "grid_search = GridSearchCV(estimator=rf, param_grid=param_grid,\n",
        "                           cv=5, n_jobs=-1, verbose=2)\n",
        "\n",
        "# Fit the model\n",
        "grid_search.fit(X_train, y_train)\n",
        "\n",
        "# Get the best parameters and best score\n",
        "print(\"Best Parameters:\", grid_search.best_params_)\n",
        "print(\"Best Score:\", grid_search.best_score_)\n"
      ]
    },
    {
      "cell_type": "code",
      "execution_count": null,
      "id": "XEo1yXNTeKDk",
      "metadata": {
        "id": "XEo1yXNTeKDk"
      },
      "outputs": [],
      "source": [
        "final_model = "
      ]
    }
  ],
  "metadata": {
    "colab": {
      "provenance": []
    },
    "kernelspec": {
      "display_name": "Python 3",
      "language": "python",
      "name": "python3"
    },
    "language_info": {
      "codemirror_mode": {
        "name": "ipython",
        "version": 3
      },
      "file_extension": ".py",
      "mimetype": "text/x-python",
      "name": "python",
      "nbconvert_exporter": "python",
      "pygments_lexer": "ipython3",
      "version": "3.12.3"
    }
  },
  "nbformat": 4,
  "nbformat_minor": 5
}
